{
 "cells": [
  {
   "cell_type": "markdown",
   "metadata": {},
   "source": [
    "## Scraping the site\n",
    "This notebook is created for the purpose of showcasing how the carbonara_recipe.csv came to be. In order to do that, I created a highly custom function that will scrape the data from the website. Take note that I did not modify this to the extent that it can cater other similar structured site for the purpose of showcasing what is in the site properly for demo. As you can see, that every section of the site is partitioned in a way we can actually get what we need properly. In this case, what we need is the ingredients and it has it's own section along with a table structured ingredients that makes it easier for us to convert it into a table format, getting what we need in the transformation process."
   ]
  },
  {
   "cell_type": "code",
   "execution_count": 1,
   "metadata": {},
   "outputs": [],
   "source": [
    "import requests\n",
    "from bs4 import BeautifulSoup\n",
    "import pandas as pd\n",
    "import re"
   ]
  },
  {
   "cell_type": "code",
   "execution_count": 2,
   "metadata": {},
   "outputs": [],
   "source": [
    "\n",
    "# Function to convert quantity to float\n",
    "def convert_to_float(quantity_str):\n",
    "    if not quantity_str:\n",
    "        return None\n",
    "\n",
    "    # Check if the quantity is a range\n",
    "    match = re.match(r'^([\\d.]+)\\s*-\\s*([\\d.]+)$', quantity_str)\n",
    "    if match:\n",
    "        # If it's a range, calculate the average\n",
    "        return float(match.group(1)) \n",
    "    else:\n",
    "        # If it's a single value, convert to float\n",
    "        return float(eval(quantity_str))"
   ]
  },
  {
   "cell_type": "code",
   "execution_count": 3,
   "metadata": {},
   "outputs": [],
   "source": [
    "\n",
    "\n",
    "# Function to scrape ingredients from the given URL\n",
    "def scrape_ingredients(url):\n",
    "    response = requests.get(url)\n",
    "    soup = BeautifulSoup(response.text, 'html.parser')\n",
    "\n",
    "    # Find the section containing ingredients\n",
    "    ingredients_section = soup.find('div', {'class': 'wprm-recipe-ingredients-container'})\n",
    "    if not ingredients_section:\n",
    "        print(\"Ingredients section not found.\")\n",
    "        return None\n",
    "\n",
    "    # Extract ingredient details\n",
    "    ingredients_data = []\n",
    "    for ingredient_item in ingredients_section.find_all('li', {'class': 'wprm-recipe-ingredient'}):\n",
    "        ingredient = ingredient_item.find('span', {'class': 'wprm-recipe-ingredient-name'})\n",
    "        quantity = ingredient_item.find('span', {'class': 'wprm-recipe-ingredient-amount'})\n",
    "        unit = ingredient_item.find('span', {'class': 'wprm-recipe-ingredient-unit'})\n",
    "        notes = ingredient_item.find('span', {'class': 'wprm-recipe-ingredient-notes-normal'})\n",
    "\n",
    "        if ingredient:\n",
    "            ingredients_data.append({\n",
    "                'Ingredient': ingredient.text.strip(),\n",
    "                'Quantity': convert_to_float(quantity.text.strip()) if quantity else None,\n",
    "                'Unit': unit.text.strip() if unit else notes.text.strip() if notes else None\n",
    "            })\n",
    "\n",
    "    return ingredients_data\n",
    "\n"
   ]
  },
  {
   "cell_type": "code",
   "execution_count": 4,
   "metadata": {},
   "outputs": [],
   "source": [
    "website_url = \"https://www.cookingnook.com/recipe/carbonara/\"\n",
    "ingredients_data = scrape_ingredients(website_url)"
   ]
  },
  {
   "cell_type": "code",
   "execution_count": 5,
   "metadata": {},
   "outputs": [
    {
     "name": "stdout",
     "output_type": "stream",
     "text": [
      "[{'Ingredient': 'spaghetti', 'Quantity': 1.0, 'Unit': 'pound'}, {'Ingredient': 'salt and freshly ground pepper', 'Quantity': None, 'Unit': None}, {'Ingredient': 'oil', 'Quantity': 0.5, 'Unit': 'teaspoon'}, {'Ingredient': 'onion', 'Quantity': 1.0, 'Unit': None}, {'Ingredient': 'bacon', 'Quantity': 5.0, 'Unit': 'slices'}, {'Ingredient': 'mushrooms', 'Quantity': 1.0, 'Unit': 'cup'}, {'Ingredient': 'butter', 'Quantity': 4.0, 'Unit': 'tablespoons'}, {'Ingredient': 'Parmesan cheese', 'Quantity': 0.3333333333333333, 'Unit': 'cup'}, {'Ingredient': 'eggs', 'Quantity': 5.0, 'Unit': None}, {'Ingredient': 'parsley', 'Quantity': 1.0, 'Unit': 'tablespoon'}]\n"
     ]
    }
   ],
   "source": [
    "print(ingredients_data)"
   ]
  },
  {
   "cell_type": "code",
   "execution_count": 6,
   "metadata": {},
   "outputs": [
    {
     "name": "stdout",
     "output_type": "stream",
     "text": [
      "                       Ingredient Quantity         Unit\n",
      "0                       spaghetti     1.00        pound\n",
      "1  salt and freshly ground pepper     None         None\n",
      "2                             oil     0.50     teaspoon\n",
      "3                           onion     1.00         None\n",
      "4                           bacon     5.00       slices\n",
      "5                       mushrooms     1.00          cup\n",
      "6                          butter     4.00  tablespoons\n",
      "7                 Parmesan cheese     0.33          cup\n",
      "8                            eggs     5.00         None\n",
      "9                         parsley     1.00   tablespoon\n"
     ]
    }
   ],
   "source": [
    "\n",
    "# Create a pandas DataFrame\n",
    "ingredients_df = pd.DataFrame(ingredients_data)\n",
    "ingredients_df['Quantity'] = ingredients_df['Quantity'].apply(lambda x: f\"{x:.2f}\" if pd.notna(x) else None)\n",
    "\n",
    "# Display the DataFrame\n",
    "print(ingredients_df)"
   ]
  },
  {
   "cell_type": "code",
   "execution_count": 7,
   "metadata": {},
   "outputs": [],
   "source": [
    "ingredients_df.to_csv('carbonara_recipe.csv', index=False)"
   ]
  }
 ],
 "metadata": {
  "kernelspec": {
   "display_name": "Python 3",
   "language": "python",
   "name": "python3"
  },
  "language_info": {
   "codemirror_mode": {
    "name": "ipython",
    "version": 3
   },
   "file_extension": ".py",
   "mimetype": "text/x-python",
   "name": "python",
   "nbconvert_exporter": "python",
   "pygments_lexer": "ipython3",
   "version": "3.11.5"
  }
 },
 "nbformat": 4,
 "nbformat_minor": 2
}
